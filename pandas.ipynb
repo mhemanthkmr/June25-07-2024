{
 "cells": [
  {
   "cell_type": "code",
   "execution_count": 68,
   "metadata": {},
   "outputs": [],
   "source": [
    "import pandas as hd"
   ]
  },
  {
   "cell_type": "code",
   "execution_count": 69,
   "metadata": {},
   "outputs": [],
   "source": [
    "hm = hd.read_csv(\".venv/include/tips (2).csv\")"
   ]
  },
  {
   "cell_type": "code",
   "execution_count": 70,
   "metadata": {},
   "outputs": [
    {
     "name": "stdout",
     "output_type": "stream",
     "text": [
      "   total_bill   tip     sex smoker  day    time  size\n",
      "0       16.99   NaN  Female     No  Sun  Dinner   2.0\n",
      "1         NaN  1.66    Male     No  Sun  Dinner   3.0\n",
      "2       21.01   NaN    Male     No  Sun  Dinner   3.0\n",
      "3       23.68  3.31    Male     No  Sun  Dinner   2.0\n",
      "4       24.59   NaN  Female     No  Sun  Dinner   4.0\n",
      "     total_bill   tip     sex smoker   day    time  size\n",
      "239       29.03  5.92    Male     No   Sat  Dinner   3.0\n",
      "240       27.18  2.00  Female    Yes   Sat  Dinner   2.0\n",
      "241       22.67  2.00    Male    Yes   Sat  Dinner   2.0\n",
      "242       17.82  1.75    Male     No   Sat  Dinner   2.0\n",
      "243       18.78  3.00  Female     No  Thur  Dinner   2.0\n",
      "<class 'pandas.core.frame.DataFrame'>\n",
      "RangeIndex: 244 entries, 0 to 243\n",
      "Data columns (total 7 columns):\n",
      " #   Column      Non-Null Count  Dtype  \n",
      "---  ------      --------------  -----  \n",
      " 0   total_bill  243 non-null    float64\n",
      " 1   tip         240 non-null    float64\n",
      " 2   sex         242 non-null    object \n",
      " 3   smoker      244 non-null    object \n",
      " 4   day         243 non-null    object \n",
      " 5   time        243 non-null    object \n",
      " 6   size        242 non-null    float64\n",
      "dtypes: float64(3), object(4)\n",
      "memory usage: 13.5+ KB\n",
      "None\n",
      "       total_bill         tip        size\n",
      "count  243.000000  240.000000  242.000000\n",
      "mean    19.823909    3.007875    2.574380\n",
      "std      8.900473    1.385174    0.953615\n",
      "min      3.070000    1.000000    1.000000\n",
      "25%     13.380000    2.000000    2.000000\n",
      "50%     17.810000    2.900000    2.000000\n",
      "75%     24.175000    3.562500    3.000000\n",
      "max     50.810000   10.000000    6.000000\n"
     ]
    }
   ],
   "source": [
    "print(hm.head())\n",
    "print(hm.tail())\n",
    "print(hm.info())\n",
    "print(hm.describe())"
   ]
  },
  {
   "cell_type": "code",
   "execution_count": 71,
   "metadata": {},
   "outputs": [
    {
     "name": "stdout",
     "output_type": "stream",
     "text": [
      "(244, 7)\n",
      "0      Female\n",
      "1        Male\n",
      "2        Male\n",
      "3        Male\n",
      "4      Female\n",
      "        ...  \n",
      "239      Male\n",
      "240    Female\n",
      "241      Male\n",
      "242      Male\n",
      "243    Female\n",
      "Name: sex, Length: 244, dtype: object\n",
      "total_bill    1\n",
      "tip           4\n",
      "sex           2\n",
      "smoker        0\n",
      "day           1\n",
      "time          1\n",
      "size          2\n",
      "dtype: int64\n"
     ]
    }
   ],
   "source": [
    "print(hm.shape)\n",
    "print(hm['sex'])\n",
    "print(hm.isnull().sum())"
   ]
  },
  {
   "cell_type": "code",
   "execution_count": 72,
   "metadata": {},
   "outputs": [],
   "source": [
    "# undo = hm.dropna()\n",
    "# print(undo)\n",
    "# undo = hm.fillna(00)\n",
    "# print(undo)"
   ]
  },
  {
   "cell_type": "code",
   "execution_count": 73,
   "metadata": {},
   "outputs": [],
   "source": [
    "#hm.dropna(inplace = True)\n",
    "hm.fillna(100,inplace = True)\n"
   ]
  },
  {
   "cell_type": "code",
   "execution_count": 74,
   "metadata": {},
   "outputs": [
    {
     "data": {
      "text/html": [
       "<div>\n",
       "<style scoped>\n",
       "    .dataframe tbody tr th:only-of-type {\n",
       "        vertical-align: middle;\n",
       "    }\n",
       "\n",
       "    .dataframe tbody tr th {\n",
       "        vertical-align: top;\n",
       "    }\n",
       "\n",
       "    .dataframe thead th {\n",
       "        text-align: right;\n",
       "    }\n",
       "</style>\n",
       "<table border=\"1\" class=\"dataframe\">\n",
       "  <thead>\n",
       "    <tr style=\"text-align: right;\">\n",
       "      <th></th>\n",
       "      <th>total_bill</th>\n",
       "      <th>tip</th>\n",
       "      <th>sex</th>\n",
       "      <th>smoker</th>\n",
       "      <th>day</th>\n",
       "      <th>time</th>\n",
       "      <th>size</th>\n",
       "    </tr>\n",
       "  </thead>\n",
       "  <tbody>\n",
       "    <tr>\n",
       "      <th>0</th>\n",
       "      <td>16.99</td>\n",
       "      <td>100.00</td>\n",
       "      <td>Female</td>\n",
       "      <td>No</td>\n",
       "      <td>Sun</td>\n",
       "      <td>Dinner</td>\n",
       "      <td>2.0</td>\n",
       "    </tr>\n",
       "    <tr>\n",
       "      <th>1</th>\n",
       "      <td>100.00</td>\n",
       "      <td>1.66</td>\n",
       "      <td>Male</td>\n",
       "      <td>No</td>\n",
       "      <td>Sun</td>\n",
       "      <td>Dinner</td>\n",
       "      <td>3.0</td>\n",
       "    </tr>\n",
       "    <tr>\n",
       "      <th>2</th>\n",
       "      <td>21.01</td>\n",
       "      <td>100.00</td>\n",
       "      <td>Male</td>\n",
       "      <td>No</td>\n",
       "      <td>Sun</td>\n",
       "      <td>Dinner</td>\n",
       "      <td>3.0</td>\n",
       "    </tr>\n",
       "    <tr>\n",
       "      <th>3</th>\n",
       "      <td>23.68</td>\n",
       "      <td>3.31</td>\n",
       "      <td>Male</td>\n",
       "      <td>No</td>\n",
       "      <td>Sun</td>\n",
       "      <td>Dinner</td>\n",
       "      <td>2.0</td>\n",
       "    </tr>\n",
       "    <tr>\n",
       "      <th>4</th>\n",
       "      <td>24.59</td>\n",
       "      <td>100.00</td>\n",
       "      <td>Female</td>\n",
       "      <td>No</td>\n",
       "      <td>Sun</td>\n",
       "      <td>Dinner</td>\n",
       "      <td>4.0</td>\n",
       "    </tr>\n",
       "    <tr>\n",
       "      <th>...</th>\n",
       "      <td>...</td>\n",
       "      <td>...</td>\n",
       "      <td>...</td>\n",
       "      <td>...</td>\n",
       "      <td>...</td>\n",
       "      <td>...</td>\n",
       "      <td>...</td>\n",
       "    </tr>\n",
       "    <tr>\n",
       "      <th>239</th>\n",
       "      <td>29.03</td>\n",
       "      <td>5.92</td>\n",
       "      <td>Male</td>\n",
       "      <td>No</td>\n",
       "      <td>Sat</td>\n",
       "      <td>Dinner</td>\n",
       "      <td>3.0</td>\n",
       "    </tr>\n",
       "    <tr>\n",
       "      <th>240</th>\n",
       "      <td>27.18</td>\n",
       "      <td>2.00</td>\n",
       "      <td>Female</td>\n",
       "      <td>Yes</td>\n",
       "      <td>Sat</td>\n",
       "      <td>Dinner</td>\n",
       "      <td>2.0</td>\n",
       "    </tr>\n",
       "    <tr>\n",
       "      <th>241</th>\n",
       "      <td>22.67</td>\n",
       "      <td>2.00</td>\n",
       "      <td>Male</td>\n",
       "      <td>Yes</td>\n",
       "      <td>Sat</td>\n",
       "      <td>Dinner</td>\n",
       "      <td>2.0</td>\n",
       "    </tr>\n",
       "    <tr>\n",
       "      <th>242</th>\n",
       "      <td>17.82</td>\n",
       "      <td>1.75</td>\n",
       "      <td>Male</td>\n",
       "      <td>No</td>\n",
       "      <td>Sat</td>\n",
       "      <td>Dinner</td>\n",
       "      <td>2.0</td>\n",
       "    </tr>\n",
       "    <tr>\n",
       "      <th>243</th>\n",
       "      <td>18.78</td>\n",
       "      <td>3.00</td>\n",
       "      <td>Female</td>\n",
       "      <td>No</td>\n",
       "      <td>Thur</td>\n",
       "      <td>Dinner</td>\n",
       "      <td>2.0</td>\n",
       "    </tr>\n",
       "  </tbody>\n",
       "</table>\n",
       "<p>244 rows × 7 columns</p>\n",
       "</div>"
      ],
      "text/plain": [
       "     total_bill     tip     sex smoker   day    time  size\n",
       "0         16.99  100.00  Female     No   Sun  Dinner   2.0\n",
       "1        100.00    1.66    Male     No   Sun  Dinner   3.0\n",
       "2         21.01  100.00    Male     No   Sun  Dinner   3.0\n",
       "3         23.68    3.31    Male     No   Sun  Dinner   2.0\n",
       "4         24.59  100.00  Female     No   Sun  Dinner   4.0\n",
       "..          ...     ...     ...    ...   ...     ...   ...\n",
       "239       29.03    5.92    Male     No   Sat  Dinner   3.0\n",
       "240       27.18    2.00  Female    Yes   Sat  Dinner   2.0\n",
       "241       22.67    2.00    Male    Yes   Sat  Dinner   2.0\n",
       "242       17.82    1.75    Male     No   Sat  Dinner   2.0\n",
       "243       18.78    3.00  Female     No  Thur  Dinner   2.0\n",
       "\n",
       "[244 rows x 7 columns]"
      ]
     },
     "execution_count": 74,
     "metadata": {},
     "output_type": "execute_result"
    }
   ],
   "source": [
    "hm"
   ]
  },
  {
   "cell_type": "code",
   "execution_count": 75,
   "metadata": {},
   "outputs": [
    {
     "name": "stdout",
     "output_type": "stream",
     "text": [
      "Male\n",
      "Sun\n"
     ]
    }
   ],
   "source": [
    "print(hm.loc[6,'sex'])\n",
    "print(hm.iloc[2,4])"
   ]
  },
  {
   "cell_type": "code",
   "execution_count": 76,
   "metadata": {},
   "outputs": [
    {
     "name": "stdout",
     "output_type": "stream",
     "text": [
      "<class 'pandas.core.series.Series'>\n",
      "<class 'pandas.core.frame.DataFrame'>\n"
     ]
    }
   ],
   "source": [
    "print(type(hm['smoker']))\n",
    "print(type(hm))\n"
   ]
  },
  {
   "cell_type": "markdown",
   "metadata": {},
   "source": []
  },
  {
   "cell_type": "code",
   "execution_count": 77,
   "metadata": {},
   "outputs": [
    {
     "name": "stdout",
     "output_type": "stream",
     "text": [
      "0       True\n",
      "1       True\n",
      "2       True\n",
      "3       True\n",
      "4      False\n",
      "       ...  \n",
      "239     True\n",
      "240     True\n",
      "241     True\n",
      "242     True\n",
      "243     True\n",
      "Name: size, Length: 244, dtype: bool\n",
      "      tip     sex\n",
      "8    1.96    Male\n",
      "14   3.02  Female\n",
      "125  4.20  Female\n",
      "141  6.70    Male\n",
      "143  5.00  Female\n",
      "156  5.00    Male\n"
     ]
    }
   ],
   "source": [
    "print(hm['size'] < 4)\n",
    "print(hm[['tip','sex']][hm['size'] > 5])"
   ]
  },
  {
   "cell_type": "code",
   "execution_count": 78,
   "metadata": {},
   "outputs": [
    {
     "name": "stdout",
     "output_type": "stream",
     "text": [
      "        total_bill  tip  sex  smoker  day  size\n",
      "time                                           \n",
      "100              1    1    1       1    1     1\n",
      "Dinner         175  175  175     175  175   175\n",
      "Lunch           68   68   68      68   68    68\n",
      "100.0\n",
      "1.0\n",
      "4.597909836065574\n",
      "1121.8899999999999\n"
     ]
    }
   ],
   "source": [
    "print(hm.groupby('time').count())\n",
    "print(hm['tip'].max())\n",
    "print(hm['tip'].min())\n",
    "print(hm['tip'].mean())\n",
    "print(hm['tip'].sum())"
   ]
  }
 ],
 "metadata": {
  "kernelspec": {
   "display_name": "Python 3",
   "language": "python",
   "name": "python3"
  },
  "language_info": {
   "codemirror_mode": {
    "name": "ipython",
    "version": 3
   },
   "file_extension": ".py",
   "mimetype": "text/x-python",
   "name": "python",
   "nbconvert_exporter": "python",
   "pygments_lexer": "ipython3",
   "version": "3.10.13"
  }
 },
 "nbformat": 4,
 "nbformat_minor": 2
}
