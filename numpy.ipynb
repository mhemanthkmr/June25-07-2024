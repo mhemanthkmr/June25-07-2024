{
 "cells": [
  {
   "cell_type": "code",
   "execution_count": 61,
   "metadata": {},
   "outputs": [],
   "source": [
    "import numpy as np"
   ]
  },
  {
   "cell_type": "code",
   "execution_count": 62,
   "metadata": {},
   "outputs": [
    {
     "name": "stdout",
     "output_type": "stream",
     "text": [
      "[1 2 3 4 5] [5 6 7 8 9]\n",
      "[ 6  8 10 12 14]\n",
      "[-4 -4 -4 -4 -4]\n",
      "9\n"
     ]
    }
   ],
   "source": [
    "a = np.array([1,2,3,4,5])\n",
    "b= np.array ([5,6,7,8,9])\n",
    "print(a,b)\n",
    "print(a+b)\n",
    "print(a-b)\n",
    "print(b[4])\n",
    "\n"
   ]
  },
  {
   "cell_type": "code",
   "execution_count": 63,
   "metadata": {},
   "outputs": [
    {
     "name": "stdout",
     "output_type": "stream",
     "text": [
      "[[0. 0. 0.]\n",
      " [0. 0. 0.]\n",
      " [0. 0. 0.]]\n",
      "(3, 3)\n",
      "[[1. 1. 1. 1.]\n",
      " [1. 1. 1. 1.]\n",
      " [1. 1. 1. 1.]\n",
      " [1. 1. 1. 1.]]\n",
      "(4, 4)\n",
      "[[1. 1. 1. 1.]]\n",
      "[[1. 1. 1.]\n",
      " [1. 1. 1.]]\n",
      "[[1. 1.]\n",
      " [1. 1.]\n",
      " [1. 1.]]\n"
     ]
    }
   ],
   "source": [
    "a1 = np.zeros([3,3])\n",
    "print(a1)\n",
    "print(a1.shape)\n",
    
    "b1 = np .ones ([4,4])\n",
    "print(b1)\n",
    "print(b1.shape)\n",
    "print(b1[2:3])\n",
    
    "d1 = np.ones([2,3])\n",
    "print(d1)\n",
    "print(d1.transpose())\n",
    "\n"
   ]
  },
  {
   "cell_type": "code",
   "execution_count": 64,
   "metadata": {},
   "outputs": [
    {
     "name": "stdout",
     "output_type": "stream",
     "text": [
      "[  0   2   4   6   8  10  12  14  16  18  20  22  24  26  28  30  32  34\n",
      "  36  38  40  42  44  46  48  50  52  54  56  58  60  62  64  66  68  70\n",
      "  72  74  76  78  80  82  84  86  88  90  92  94  96  98 100 102 104 106\n",
      " 108 110 112 114 116 118 120 122 124 126 128 130 132 134 136 138 140 142\n",
      " 144 146 148 150 152 154 156 158 160 162 164 166 168 170 172 174 176 178\n",
      " 180 182 184 186 188 190 192 194 196 198 200 202 204 206 208 210 212 214\n",
      " 216 218 220 222 224 226 228 230 232 234 236 238 240 242 244 246 248 250\n",
      " 252 254 256 258 260 262 264 266 268 270 272 274 276 278 280 282 284 286\n",
      " 288 290 292 294 296 298 300 302 304 306 308 310 312 314 316 318 320 322\n",
      " 324 326 328 330 332 334 336 338 340 342 344 346 348 350 352 354 356 358\n",
      " 360 362 364 366 368 370 372 374 376 378 380 382 384 386 388 390 392 394\n",
      " 396 398]\n",
      "int64\n",
      "200\n"
     ]
    }
   ],
   "source": [
    "c1 = np.arange(0,400,2)\n",
    "print(c1)\n",
    "print(c1.dtype)\n",
    "print(c1.size)\n",
    "\n"
   ]
  },
  {
   "cell_type": "code",
   "execution_count": 65,
   "metadata": {},
   "outputs": [
    {
     "name": "stdout",
     "output_type": "stream",
     "text": [
      "(12,)\n",
      "[[ 1  2  3]\n",
      " [ 4  5  6]\n",
      " [ 7  8  9]\n",
      " [10 11 12]]\n",
      "[array([1, 2, 3]), array([4, 5, 6]), array([7, 8, 9]), array([10, 11, 12])]\n"
     ]
    }
   ],
   "source": [
    "x = np.array([1,2,3,4,5,6,7,8,9,10,11,12])\n",
    "y = np .array([12,23,34,45,67,78,90])\n",
    "print(x.shape)\n",
    "z = x . reshape(4,3)\n",
    "print(z)\n",
    "f = np.array_split(x,4)\n",
    "print(f)\n",
    
   ]
  }
 ],
 "metadata": {
  "kernelspec": {
   "display_name": "Python 3",
   "language": "python",
   "name": "python3"
  },
  "language_info": {
   "codemirror_mode": {
    "name": "ipython",
    "version": 3
   },
   "file_extension": ".py",
   "mimetype": "text/x-python",
   "name": "python",
   "nbconvert_exporter": "python",
   "pygments_lexer": "ipython3",
   "version": "3.10.13"
  }
 },
 "nbformat": 4,
 "nbformat_minor": 2
}
